{
 "cells": [
  {
   "cell_type": "code",
   "execution_count": 21,
   "metadata": {
    "collapsed": true
   },
   "outputs": [],
   "source": [
    "import numpy as np"
   ]
  },
  {
   "cell_type": "code",
   "execution_count": 170,
   "metadata": {},
   "outputs": [],
   "source": [
    "def gen_rand_strategy(num_of_castles, num_of_soldiers):\n",
    "    soldiers_remaining = num_of_soldiers\n",
    "    strategy = np.zeros((num_of_castles))\n",
    "    for castle_force in range(num_of_castles):\n",
    "        plan = np.random.randint(0, (soldiers_remaining + 1))\n",
    "        soldiers_remaining = soldiers_remaining - plan\n",
    "        strategy[castle_force] = plan\n",
    "        \n",
    "    np.random.shuffle(strategy)\n",
    "    strategy = strategy.reshape(num_of_castles, 1)\n",
    "    \n",
    "    return strategy"
   ]
  },
  {
   "cell_type": "code",
   "execution_count": 171,
   "metadata": {},
   "outputs": [],
   "source": [
    "def do_battle(a_team, b_team):\n",
    "    reward_vals = np.arange(1,11)\n",
    "    reward_vals = reward_vals.reshape(10,1)\n",
    "    \n",
    "    castles_won = a_team > b_team\n",
    "    a_team_points = np.sum(np.multiply(castles_won, reward_vals))\n",
    "    return a_team_points"
   ]
  },
  {
   "cell_type": "code",
   "execution_count": 172,
   "metadata": {},
   "outputs": [
    {
     "name": "stdout",
     "output_type": "stream",
     "text": [
      "[[ 67.   0.]\n",
      " [  0.   1.]\n",
      " [  1.   0.]\n",
      " [ 28.   0.]\n",
      " [  1.   0.]\n",
      " [  2.   3.]\n",
      " [  0.   0.]\n",
      " [  0.  90.]\n",
      " [  1.   0.]\n",
      " [  0.   6.]]\n",
      "22\n"
     ]
    }
   ],
   "source": [
    "olden_knights = gen_rand_strategy(10, 100)\n",
    "peasents = gen_rand_strategy(10, 100)\n",
    "vis_matchup = np.concatenate((olden_knights, peasents), axis = 1)\n",
    "knight_wins = do_battle(olden_knights, peasents)\n",
    "print(vis_matchup)\n",
    "print(knight_wins)\n"
   ]
  },
  {
   "cell_type": "code",
   "execution_count": 174,
   "metadata": {},
   "outputs": [],
   "source": [
    "import mesa as ms"
   ]
  },
  {
   "cell_type": "code",
   "execution_count": null,
   "metadata": {
    "collapsed": true
   },
   "outputs": [],
   "source": []
  }
 ],
 "metadata": {
  "kernelspec": {
   "display_name": "Python 3",
   "language": "python",
   "name": "python3"
  },
  "language_info": {
   "codemirror_mode": {
    "name": "ipython",
    "version": 3
   },
   "file_extension": ".py",
   "mimetype": "text/x-python",
   "name": "python",
   "nbconvert_exporter": "python",
   "pygments_lexer": "ipython3",
   "version": "3.6.3"
  }
 },
 "nbformat": 4,
 "nbformat_minor": 2
}
